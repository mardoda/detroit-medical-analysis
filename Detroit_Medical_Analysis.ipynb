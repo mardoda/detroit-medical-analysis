{
  "nbformat": 4,
  "nbformat_minor": 0,
  "metadata": {
    "colab": {
      "provenance": [],
      "collapsed_sections": [
        "EF-Ygo3cdGZG"
      ],
      "machine_shape": "hm"
    },
    "kernelspec": {
      "name": "python3",
      "display_name": "Python 3"
    }
  },
  "cells": [
    {
      "cell_type": "markdown",
      "metadata": {
        "id": "kB3ABhbUX7TK"
      },
      "source": [
        "#**DSE Final Project**\n",
        "###*Created by Allison Gohl, Kindeep Dhatt, Maria Doda and Ann Mansour*\n",
        "###*Detroit Medical Center Dataset*"
      ]
    },
    {
      "cell_type": "markdown",
      "metadata": {
        "id": "EF-Ygo3cdGZG"
      },
      "source": [
        "#**Below are the steps we did for downloading Panda libraries. We Imported the datasets required for this project and did some data cleaning**"
      ]
    },
    {
      "cell_type": "markdown",
      "metadata": {
        "id": "MPwuXIpG2ChD"
      },
      "source": [
        "Downloaded Panda library"
      ]
    },
    {
      "cell_type": "code",
      "metadata": {
        "id": "RSVGyRZV1QV7"
      },
      "source": [
        "import numpy as np\n",
        "import pandas as pd\n",
        "import matplotlib.pyplot as plt\n",
        "import seaborn as sns\n",
        "%matplotlib inline"
      ],
      "execution_count": null,
      "outputs": []
    },
    {
      "cell_type": "markdown",
      "metadata": {
        "id": "sBKG2TJx2fo0"
      },
      "source": [
        "Downloaded and printed using Panda and named the dataframe as med_school_df"
      ]
    },
    {
      "cell_type": "code",
      "metadata": {
        "id": "gyMFtGcR1bPb"
      },
      "source": [
        "med_school_df = pd.read_csv(\"https://storage.googleapis.com/fdse-19/med_school_data.csv\")\n",
        "print(med_school_df)"
      ],
      "execution_count": null,
      "outputs": []
    },
    {
      "cell_type": "code",
      "metadata": {
        "id": "e3SnRPQT13gp"
      },
      "source": [
        "med_school_df.head()\n"
      ],
      "execution_count": null,
      "outputs": []
    },
    {
      "cell_type": "code",
      "metadata": {
        "id": "S4S_YB2nYMIP"
      },
      "source": [
        "med_school_df.dtypes"
      ],
      "execution_count": null,
      "outputs": []
    },
    {
      "cell_type": "markdown",
      "metadata": {
        "id": "eS-lO-FPy3Ww"
      },
      "source": [
        "Downloaded and printed Weather Dataset using Panda and named the dataframe as weather_df"
      ]
    },
    {
      "cell_type": "code",
      "metadata": {
        "id": "KKAojavyzB4E"
      },
      "source": [
        "weather_df = pd.read_csv(\"https://storage.googleapis.com/fdse-19/data_weather.csv\")\n",
        "print(weather_df)"
      ],
      "execution_count": null,
      "outputs": []
    },
    {
      "cell_type": "code",
      "metadata": {
        "id": "Ju_fR8eHzLrB"
      },
      "source": [
        "weather_df.head()"
      ],
      "execution_count": null,
      "outputs": []
    },
    {
      "cell_type": "code",
      "metadata": {
        "id": "n_IyuQO-zPLe"
      },
      "source": [
        "weather_df.dtypes"
      ],
      "execution_count": null,
      "outputs": []
    },
    {
      "cell_type": "markdown",
      "metadata": {
        "id": "v0ehe2bs2kQd"
      },
      "source": [
        "Data Cleaning for med_school_df & weather_df"
      ]
    },
    {
      "cell_type": "code",
      "metadata": {
        "id": "cqqyvWmB3Vtd"
      },
      "source": [
        "print(med_school_df.columns)\n",
        "print(weather_df.columns)"
      ],
      "execution_count": null,
      "outputs": []
    },
    {
      "cell_type": "code",
      "metadata": {
        "id": "gdruAMEu03jF"
      },
      "source": [
        "med_school_df.columns = med_school_df.columns.str.strip()\n",
        "med_school_df.dropna(axis=0, how='any', thresh=None, subset=None, inplace=True)\n",
        "med_school_df.columns = med_school_df.columns.str.strip()\n",
        "med_school_df.columns = med_school_df.columns.str.lower()\n",
        "med_school_df.columns = med_school_df.columns.str.replace(' ', '_').str.replace('(', '').str.replace(')', '')\n",
        "med_school_df.columns = med_school_df.columns.str.strip().str.lower().str.replace('-', '_').str.replace('(', '').str.replace(')', '')\n",
        "med_school_df.drop_duplicates(inplace=True)\n",
        "med_school_df = med_school_df[(med_school_df.race != ' ') & (med_school_df.race != 'TO BE COLLECTED') & (med_school_df.race != 'PATIENT DECLINES')]\n",
        "med_school_df['age'] = pd.to_numeric(med_school_df['age'], downcast='float', errors='coerce')\n",
        "med_school_df.head()"
      ],
      "execution_count": null,
      "outputs": []
    },
    {
      "cell_type": "code",
      "metadata": {
        "id": "Zs9KJDjqOC34"
      },
      "source": [
        "med_school_df=(med_school_df.drop(['unnamed:_0','distance','scheduling_provider',\n",
        "             'scheduling_location','scheduling_department','fsc_1','fsc_2'],axis=1))\n",
        "print (med_school_df)"
      ],
      "execution_count": null,
      "outputs": []
    },
    {
      "cell_type": "code",
      "metadata": {
        "id": "MtQ-bVRMNo8k"
      },
      "source": [
        "med_school_df.rename(columns = {'town/_city':'city', 'zip':'zip_code'}, inplace=True)\n",
        "print (med_school_df.rename)"
      ],
      "execution_count": null,
      "outputs": []
    },
    {
      "cell_type": "code",
      "metadata": {
        "id": "NsYTY10bPu1r"
      },
      "source": [
        "med_school_df.head()"
      ],
      "execution_count": null,
      "outputs": []
    },
    {
      "cell_type": "code",
      "metadata": {
        "id": "Owm4S16NQSSY",
        "outputId": "c822e07b-6eb4-4636-fab5-a17eb7adbc83",
        "colab": {
          "base_uri": "https://localhost:8080/",
          "height": 202
        }
      },
      "source": [
        "med_school_df = med_school_df[med_school_df.city.isin(['Bingham Farms','Detroit',\n",
        "                                 'Dearborn','Southfield','Warren','Dearborn Heights'])]\n",
        "med_school_df.head()"
      ],
      "execution_count": null,
      "outputs": [
        {
          "output_type": "execute_result",
          "data": {
            "text/html": [
              "<div>\n",
              "<style scoped>\n",
              "    .dataframe tbody tr th:only-of-type {\n",
              "        vertical-align: middle;\n",
              "    }\n",
              "\n",
              "    .dataframe tbody tr th {\n",
              "        vertical-align: top;\n",
              "    }\n",
              "\n",
              "    .dataframe thead th {\n",
              "        text-align: right;\n",
              "    }\n",
              "</style>\n",
              "<table border=\"1\" class=\"dataframe\">\n",
              "  <thead>\n",
              "    <tr style=\"text-align: right;\">\n",
              "      <th></th>\n",
              "      <th>race</th>\n",
              "      <th>appt_date</th>\n",
              "      <th>age</th>\n",
              "      <th>status</th>\n",
              "      <th>sex</th>\n",
              "      <th>zip_code</th>\n",
              "      <th>city</th>\n",
              "      <th>specialty</th>\n",
              "    </tr>\n",
              "  </thead>\n",
              "  <tbody>\n",
              "    <tr>\n",
              "      <th>2</th>\n",
              "      <td>AFRICAN AMERICAN/BLACK</td>\n",
              "      <td>3/5/2018</td>\n",
              "      <td>64.400002</td>\n",
              "      <td>ARR</td>\n",
              "      <td>F</td>\n",
              "      <td>48025</td>\n",
              "      <td>Bingham Farms</td>\n",
              "      <td>RETINA</td>\n",
              "    </tr>\n",
              "    <tr>\n",
              "      <th>3</th>\n",
              "      <td>AFRICAN AMERICAN/BLACK</td>\n",
              "      <td>12/3/2018</td>\n",
              "      <td>65.099998</td>\n",
              "      <td>ARR</td>\n",
              "      <td>F</td>\n",
              "      <td>48025</td>\n",
              "      <td>Bingham Farms</td>\n",
              "      <td>RETINA</td>\n",
              "    </tr>\n",
              "    <tr>\n",
              "      <th>4</th>\n",
              "      <td>AFRICAN AMERICAN/BLACK</td>\n",
              "      <td>10/9/2017</td>\n",
              "      <td>36.799999</td>\n",
              "      <td>CAN</td>\n",
              "      <td>F</td>\n",
              "      <td>48025</td>\n",
              "      <td>Bingham Farms</td>\n",
              "      <td>RETINA</td>\n",
              "    </tr>\n",
              "    <tr>\n",
              "      <th>5</th>\n",
              "      <td>AFRICAN AMERICAN/BLACK</td>\n",
              "      <td>11/27/2017</td>\n",
              "      <td>36.900002</td>\n",
              "      <td>NOS</td>\n",
              "      <td>F</td>\n",
              "      <td>48025</td>\n",
              "      <td>Bingham Farms</td>\n",
              "      <td>RETINA</td>\n",
              "    </tr>\n",
              "    <tr>\n",
              "      <th>6</th>\n",
              "      <td>AFRICAN AMERICAN/BLACK</td>\n",
              "      <td>8/7/2017</td>\n",
              "      <td>36.599998</td>\n",
              "      <td>ARR</td>\n",
              "      <td>F</td>\n",
              "      <td>48025</td>\n",
              "      <td>Bingham Farms</td>\n",
              "      <td>RETINA</td>\n",
              "    </tr>\n",
              "  </tbody>\n",
              "</table>\n",
              "</div>"
            ],
            "text/plain": [
              "                     race   appt_date  ...           city specialty\n",
              "2  AFRICAN AMERICAN/BLACK    3/5/2018  ...  Bingham Farms    RETINA\n",
              "3  AFRICAN AMERICAN/BLACK   12/3/2018  ...  Bingham Farms    RETINA\n",
              "4  AFRICAN AMERICAN/BLACK   10/9/2017  ...  Bingham Farms    RETINA\n",
              "5  AFRICAN AMERICAN/BLACK  11/27/2017  ...  Bingham Farms    RETINA\n",
              "6  AFRICAN AMERICAN/BLACK    8/7/2017  ...  Bingham Farms    RETINA\n",
              "\n",
              "[5 rows x 8 columns]"
            ]
          },
          "metadata": {
            "tags": []
          },
          "execution_count": 72
        }
      ]
    },
    {
      "cell_type": "code",
      "metadata": {
        "id": "7mtL1HgO2y9W"
      },
      "source": [
        "weather_df.columns = weather_df.columns.str.strip()\n",
        "weather_df.dropna(axis=0, how='any', thresh=None, subset=None, inplace=True)\n",
        "weather_df.columns = weather_df.columns.str.strip()\n",
        "weather_df.columns = weather_df.columns.str.lower()\n",
        "weather_df.columns = weather_df.columns.str.replace(' ', '_').str.replace('(', '').str.replace(')', '')\n",
        "weather_df.columns = weather_df.columns.str.strip().str.lower().str.replace('-', '_').str.replace('(', '').str.replace(')', '')\n",
        "weather_df.drop_duplicates(inplace=True)\n",
        "weather_df.head()"
      ],
      "execution_count": null,
      "outputs": []
    },
    {
      "cell_type": "code",
      "metadata": {
        "id": "h_YNCW8QO7X0"
      },
      "source": [
        "weather_df=(weather_df.drop(['temperature_°_f_max','temperature_°_f_min','dew_point_°_f_max', 'dew_point_°_f_avg','dew_point_°_f_min','humidity_%_max','humidity_%_avg','humidity_%_min',\n",
        "             'wind_speed_mph_max','wind_speed_mph_min','pressure_hg_max','pressure_hg_avg','pressure_hg_min'],axis=1))\n",
        "print (weather_df)"
      ],
      "execution_count": null,
      "outputs": []
    },
    {
      "cell_type": "code",
      "metadata": {
        "id": "Y_PDXAKPP7QZ"
      },
      "source": [
        "weather_df.rename(columns = {'temperature_°_f_avg':'temp_avg','wind_speed_mph_avg':'wind_speed_avg','precipitation_in_total':'precipitation'}, inplace=True)\n",
        "print (weather_df.rename)"
      ],
      "execution_count": null,
      "outputs": []
    },
    {
      "cell_type": "code",
      "metadata": {
        "id": "WVhjgvnBQA6X"
      },
      "source": [
        "weather_df.head()\n",
        "merge_weather_df = pd.merge(weather_df, med_school_df, on='city')\n",
        "merge_weather_df.head()"
      ],
      "execution_count": null,
      "outputs": []
    },
    {
      "cell_type": "markdown",
      "metadata": {
        "id": "lrLyJTCOPrvC"
      },
      "source": [
        "**Other Datasets**\n",
        "Additional datasets used:\n",
        "*   https://data.detroitmi.gov/datasets/health-insurance-coverage-by-zip-code-tabulation-area\n",
        "*   https://datausa.io/profile/geo/detroit-mi#conditions_diseases\n",
        "*   https://raw.githubusercontent.com/grammakov/USA-cities-and-states/master/us_cities_states_counties.csv\n",
        "\n",
        "\n",
        "To complete this assignment, two other datasets were found and used for analysis. One had the estimated percentage of health insurance for residents of Michigan cities by zip code and a dataset that had adult obesity averages based on county. Joining the health insurance coverage with the eye medical data was easy due to both columns matching in zip code, however this was not the case for the county obesity data. A third dataset was brought in to join county and city together to get the obesity averages with the medical data. Some cleaning was done on these datasets before they were joined."
      ]
    },
    {
      "cell_type": "code",
      "metadata": {
        "id": "GqTlSRM-U9R4"
      },
      "source": [
        "city_county_df = pd.read_csv('https://storage.googleapis.com/gohla-dse/mi_city_county.csv', sep=\"|\", header=None, names=['Region', 'State Abbr', 'State', 'County', 'City/Twp'])\n",
        "obesity_risks_df = pd.read_csv('https://storage.googleapis.com/gohla-dse/Health%20Risks.csv', sep=',')\n",
        "insurance_zip_df = pd.read_csv('https://storage.googleapis.com/gohla-dse/health_insurance_zip_code.csv')\n",
        "\n",
        "city_county_df.drop(columns=['Region', 'State Abbr'], inplace=True)\n",
        "city_county_df.rename(columns={\"State\":\"state\", \"County\":\"county\", \"City/Twp\": \"city\"}, inplace=True)\n",
        "city_county_df['state'] = city_county_df['state'].apply(lambda x: x.strip().upper())\n",
        "city_county_df['city'] = city_county_df['city'].apply(lambda x: x.strip().upper())\n",
        "city_county_df['county'] = city_county_df['county'].apply(lambda x: x.strip().upper())\n",
        "\n",
        "insurance_zip_df.drop(columns=['ObjectId'], inplace=True)\n",
        "insurance_zip_df.rename(columns={\"Geography\":\"zip_code\", \"Estimated_Percent_Insured\":\"est_percent_insured\"}, inplace=True)\n",
        "insurance_zip_df = insurance_zip_df[insurance_zip_df.zip_code != 'City of Detroit']\n",
        "\n",
        "obesity_risks_df.drop(columns=['ID Year', 'ID Geography', 'Slug Geography'], inplace=True)\n",
        "obesity_risks_df['Geography'] = obesity_risks_df['Geography'].apply(lambda x: x.strip(' County MI').upper())\n",
        "obesity_risks_df.rename(columns={'Year': 'year', 'Adult Obesity': 'adult_obesity_rate', 'Geography':'county'}, inplace=True)"
      ],
      "execution_count": null,
      "outputs": []
    },
    {
      "cell_type": "markdown",
      "metadata": {
        "id": "FvbFjz4JVgCu"
      },
      "source": [
        "#**Data Analysis**"
      ]
    },
    {
      "cell_type": "markdown",
      "metadata": {
        "id": "MyksGz25Mumz"
      },
      "source": [
        "A correlation was made on the joined obesity and eye data. By grouping by city and specialty it can be seen that the city with the highest obesity was Saginaw and treated several specialties. The most common specialties were Comprehensive, Pediatrics, and Starbismus amoung the cities with the highest obesity rate."
      ]
    },
    {
      "cell_type": "code",
      "metadata": {
        "id": "Kf588ObIMleD"
      },
      "source": [
        "merge_obesity_city_df = pd.merge(city_county_df, obesity_risks_df, on='county')\n",
        "\n",
        "med_school_df_copy = med_school_df.copy(deep=True)\n",
        "med_school_df_copy['city'] = med_school_df_copy['city'].apply(lambda x: x.upper())\n",
        "obesity_eye_df = pd.merge(merge_obesity_city_df, med_school_df_copy, on='city')\n",
        "insurance_eye_df = pd.merge(insurance_zip_df, med_school_df_copy, on='zip_code')"
      ],
      "execution_count": null,
      "outputs": []
    },
    {
      "cell_type": "code",
      "metadata": {
        "id": "iyug3rcWM05k",
        "outputId": "cba78064-04a5-4ea2-be58-eebdd950aacc",
        "colab": {
          "base_uri": "https://localhost:8080/",
          "height": 570
        }
      },
      "source": [
        "grouped_df = obesity_eye_df.groupby(['city', 'specialty']).agg({'adult_obesity_rate' : ['count', 'mean']}).sort_values(by=('adult_obesity_rate', 'mean'), ascending=False)\n",
        "grouped_df.head(15)"
      ],
      "execution_count": null,
      "outputs": [
        {
          "output_type": "execute_result",
          "data": {
            "text/html": [
              "<div>\n",
              "<style scoped>\n",
              "    .dataframe tbody tr th:only-of-type {\n",
              "        vertical-align: middle;\n",
              "    }\n",
              "\n",
              "    .dataframe tbody tr th {\n",
              "        vertical-align: top;\n",
              "    }\n",
              "\n",
              "    .dataframe thead tr th {\n",
              "        text-align: left;\n",
              "    }\n",
              "\n",
              "    .dataframe thead tr:last-of-type th {\n",
              "        text-align: right;\n",
              "    }\n",
              "</style>\n",
              "<table border=\"1\" class=\"dataframe\">\n",
              "  <thead>\n",
              "    <tr>\n",
              "      <th></th>\n",
              "      <th></th>\n",
              "      <th colspan=\"2\" halign=\"left\">adult_obesity_rate</th>\n",
              "    </tr>\n",
              "    <tr>\n",
              "      <th></th>\n",
              "      <th></th>\n",
              "      <th>count</th>\n",
              "      <th>mean</th>\n",
              "    </tr>\n",
              "    <tr>\n",
              "      <th>city</th>\n",
              "      <th>specialty</th>\n",
              "      <th></th>\n",
              "      <th></th>\n",
              "    </tr>\n",
              "  </thead>\n",
              "  <tbody>\n",
              "    <tr>\n",
              "      <th rowspan=\"2\" valign=\"top\">DEARBORN HEIGHTS</th>\n",
              "      <th>OPTOM</th>\n",
              "      <td>1470</td>\n",
              "      <td>0.3372</td>\n",
              "    </tr>\n",
              "    <tr>\n",
              "      <th>COMPREHENSIVE</th>\n",
              "      <td>5780</td>\n",
              "      <td>0.3372</td>\n",
              "    </tr>\n",
              "    <tr>\n",
              "      <th rowspan=\"7\" valign=\"top\">DEARBORN</th>\n",
              "      <th>NEURO</th>\n",
              "      <td>5</td>\n",
              "      <td>0.3372</td>\n",
              "    </tr>\n",
              "    <tr>\n",
              "      <th>OPTOM</th>\n",
              "      <td>5405</td>\n",
              "      <td>0.3372</td>\n",
              "    </tr>\n",
              "    <tr>\n",
              "      <th>OTHER</th>\n",
              "      <td>80</td>\n",
              "      <td>0.3372</td>\n",
              "    </tr>\n",
              "    <tr>\n",
              "      <th>PEDIATRICS</th>\n",
              "      <td>1750</td>\n",
              "      <td>0.3372</td>\n",
              "    </tr>\n",
              "    <tr>\n",
              "      <th>RETINA</th>\n",
              "      <td>15830</td>\n",
              "      <td>0.3372</td>\n",
              "    </tr>\n",
              "    <tr>\n",
              "      <th>STRABISMUS</th>\n",
              "      <td>2255</td>\n",
              "      <td>0.3372</td>\n",
              "    </tr>\n",
              "    <tr>\n",
              "      <th>TESTING</th>\n",
              "      <td>15</td>\n",
              "      <td>0.3372</td>\n",
              "    </tr>\n",
              "    <tr>\n",
              "      <th>DEARBORN HEIGHTS</th>\n",
              "      <th>CORNEA</th>\n",
              "      <td>1115</td>\n",
              "      <td>0.3372</td>\n",
              "    </tr>\n",
              "    <tr>\n",
              "      <th>DEARBORN</th>\n",
              "      <th>INJECTION</th>\n",
              "      <td>10</td>\n",
              "      <td>0.3372</td>\n",
              "    </tr>\n",
              "    <tr>\n",
              "      <th rowspan=\"4\" valign=\"top\">DEARBORN HEIGHTS</th>\n",
              "      <th>FELLOW</th>\n",
              "      <td>155</td>\n",
              "      <td>0.3372</td>\n",
              "    </tr>\n",
              "    <tr>\n",
              "      <th>GLAUCOMA</th>\n",
              "      <td>1870</td>\n",
              "      <td>0.3372</td>\n",
              "    </tr>\n",
              "    <tr>\n",
              "      <th>OTHER</th>\n",
              "      <td>40</td>\n",
              "      <td>0.3372</td>\n",
              "    </tr>\n",
              "    <tr>\n",
              "      <th>PEDIATRICS</th>\n",
              "      <td>730</td>\n",
              "      <td>0.3372</td>\n",
              "    </tr>\n",
              "  </tbody>\n",
              "</table>\n",
              "</div>"
            ],
            "text/plain": [
              "                               adult_obesity_rate        \n",
              "                                            count    mean\n",
              "city             specialty                               \n",
              "DEARBORN HEIGHTS OPTOM                       1470  0.3372\n",
              "                 COMPREHENSIVE               5780  0.3372\n",
              "DEARBORN         NEURO                          5  0.3372\n",
              "                 OPTOM                       5405  0.3372\n",
              "                 OTHER                         80  0.3372\n",
              "                 PEDIATRICS                  1750  0.3372\n",
              "                 RETINA                     15830  0.3372\n",
              "                 STRABISMUS                  2255  0.3372\n",
              "                 TESTING                       15  0.3372\n",
              "DEARBORN HEIGHTS CORNEA                      1115  0.3372\n",
              "DEARBORN         INJECTION                     10  0.3372\n",
              "DEARBORN HEIGHTS FELLOW                       155  0.3372\n",
              "                 GLAUCOMA                    1870  0.3372\n",
              "                 OTHER                         40  0.3372\n",
              "                 PEDIATRICS                   730  0.3372"
            ]
          },
          "metadata": {
            "tags": []
          },
          "execution_count": 123
        }
      ]
    },
    {
      "cell_type": "markdown",
      "metadata": {
        "id": "W-2z77_dM6Ac"
      },
      "source": [
        "Using the cities that were selected for the weather data, a filter was done using a query for getting only data for these six cities. It was found that only the city of Detroit (which has multiple zip codes) had any merged data in the dataframe.\n"
      ]
    },
    {
      "cell_type": "code",
      "metadata": {
        "id": "MA7CvCqFNHhz",
        "outputId": "fff159e8-7b87-47f3-c68f-3d00b8624df8",
        "colab": {
          "base_uri": "https://localhost:8080/",
          "height": 712
        }
      },
      "source": [
        "cities = ['Bingham Farms','Detroit','Dearborn','Southfield','Warren','Dearborn Heights']\n",
        "cities = [x.upper() for x in cities]\n",
        "insurance_eye_df = insurance_eye_df[insurance_eye_df.city.isin(cities)]\n",
        "\n",
        "f, ax = plt.subplots(figsize=(14, 7))\n",
        "\n",
        "sns.violinplot(x=insurance_eye_df.race, y=insurance_eye_df.est_percent_insured)\n",
        "plt.title(\"Percent of Health Insurance Coverage Amoung Race\", fontsize=16)\n",
        "ax.set_xticklabels(ax.get_xticklabels(),rotation=30)\n"
      ],
      "execution_count": null,
      "outputs": [
        {
          "output_type": "execute_result",
          "data": {
            "text/plain": [
              "[Text(0, 0, 'AFRICAN AMERICAN/BLACK'),\n",
              " Text(0, 0, 'MORE THAN 1 RACE'),\n",
              " Text(0, 0, 'CAUCASIAN/WHITE'),\n",
              " Text(0, 0, 'OTHER RACE'),\n",
              " Text(0, 0, 'MIDDLE EASTERN'),\n",
              " Text(0, 0, 'ASIAN'),\n",
              " Text(0, 0, 'HISPANIC OR LATINO'),\n",
              " Text(0, 0, 'NATIVE AMERICAN INDIAN'),\n",
              " Text(0, 0, 'INDIAN'),\n",
              " Text(0, 0, 'GREEK')]"
            ]
          },
          "metadata": {
            "tags": []
          },
          "execution_count": 124
        },
        {
          "output_type": "display_data",
          "data": {
            "image/png": "[encoded data removed]",
            "text/plain": [
              "<Figure size 1008x504 with 1 Axes>"
            ]
          },
          "metadata": {
            "tags": []
          }
        }
      ]
    },
    {
      "cell_type": "markdown",
      "metadata": {
        "id": "mjB1R4xhP7tt"
      },
      "source": [
        "Above is a violin plot that shows the distribution of health insurance coverage amoung race based on the zip code they are located. The most intersting seems to be for the race 'Greek' as it is a small line which could mean all the patients that were Greek came from the same zip code."
      ]
    },
    {
      "cell_type": "markdown",
      "metadata": {
        "id": "sZ0la5mUPndj"
      },
      "source": [
        "A groupby was done on the insurance converage based on city and race. The count and mean were calculated and it shows that the race that was most insured in the city of Detroit was Greek but it only had five samples while next in line for highest was African American with a lot more samples."
      ]
    },
    {
      "cell_type": "code",
      "metadata": {
        "id": "x1GsNqnoP0UL",
        "outputId": "b83237f8-bbc1-4ead-9aef-3ef4dd84dcc7",
        "colab": {
          "base_uri": "https://localhost:8080/",
          "height": 417
        }
      },
      "source": [
        "insurance_eye_df = insurance_eye_df.groupby(['city','race']).agg({'est_percent_insured' : ['count', 'mean']}, inplace=True).sort_values(by=('est_percent_insured', 'mean'), ascending=False)\n",
        "insurance_eye_df.head(10)\n"
      ],
      "execution_count": null,
      "outputs": [
        {
          "output_type": "execute_result",
          "data": {
            "text/html": [
              "<div>\n",
              "<style scoped>\n",
              "    .dataframe tbody tr th:only-of-type {\n",
              "        vertical-align: middle;\n",
              "    }\n",
              "\n",
              "    .dataframe tbody tr th {\n",
              "        vertical-align: top;\n",
              "    }\n",
              "\n",
              "    .dataframe thead tr th {\n",
              "        text-align: left;\n",
              "    }\n",
              "\n",
              "    .dataframe thead tr:last-of-type th {\n",
              "        text-align: right;\n",
              "    }\n",
              "</style>\n",
              "<table border=\"1\" class=\"dataframe\">\n",
              "  <thead>\n",
              "    <tr>\n",
              "      <th></th>\n",
              "      <th></th>\n",
              "      <th colspan=\"2\" halign=\"left\">est_percent_insured</th>\n",
              "    </tr>\n",
              "    <tr>\n",
              "      <th></th>\n",
              "      <th></th>\n",
              "      <th>count</th>\n",
              "      <th>mean</th>\n",
              "    </tr>\n",
              "    <tr>\n",
              "      <th>city</th>\n",
              "      <th>race</th>\n",
              "      <th></th>\n",
              "      <th></th>\n",
              "    </tr>\n",
              "  </thead>\n",
              "  <tbody>\n",
              "    <tr>\n",
              "      <th rowspan=\"10\" valign=\"top\">DETROIT</th>\n",
              "      <th>GREEK</th>\n",
              "      <td>5</td>\n",
              "      <td>89.000000</td>\n",
              "    </tr>\n",
              "    <tr>\n",
              "      <th>AFRICAN AMERICAN/BLACK</th>\n",
              "      <td>21349</td>\n",
              "      <td>88.436601</td>\n",
              "    </tr>\n",
              "    <tr>\n",
              "      <th>OTHER RACE</th>\n",
              "      <td>595</td>\n",
              "      <td>86.477311</td>\n",
              "    </tr>\n",
              "    <tr>\n",
              "      <th>MIDDLE EASTERN</th>\n",
              "      <td>909</td>\n",
              "      <td>85.525853</td>\n",
              "    </tr>\n",
              "    <tr>\n",
              "      <th>CAUCASIAN/WHITE</th>\n",
              "      <td>1859</td>\n",
              "      <td>85.044110</td>\n",
              "    </tr>\n",
              "    <tr>\n",
              "      <th>INDIAN</th>\n",
              "      <td>23</td>\n",
              "      <td>84.956522</td>\n",
              "    </tr>\n",
              "    <tr>\n",
              "      <th>ASIAN</th>\n",
              "      <td>237</td>\n",
              "      <td>84.540084</td>\n",
              "    </tr>\n",
              "    <tr>\n",
              "      <th>MORE THAN 1 RACE</th>\n",
              "      <td>261</td>\n",
              "      <td>83.965517</td>\n",
              "    </tr>\n",
              "    <tr>\n",
              "      <th>NATIVE AMERICAN INDIAN</th>\n",
              "      <td>41</td>\n",
              "      <td>82.317073</td>\n",
              "    </tr>\n",
              "    <tr>\n",
              "      <th>HISPANIC OR LATINO</th>\n",
              "      <td>2723</td>\n",
              "      <td>80.808300</td>\n",
              "    </tr>\n",
              "  </tbody>\n",
              "</table>\n",
              "</div>"
            ],
            "text/plain": [
              "                               est_percent_insured           \n",
              "                                             count       mean\n",
              "city    race                                                 \n",
              "DETROIT GREEK                                    5  89.000000\n",
              "        AFRICAN AMERICAN/BLACK               21349  88.436601\n",
              "        OTHER RACE                             595  86.477311\n",
              "        MIDDLE EASTERN                         909  85.525853\n",
              "        CAUCASIAN/WHITE                       1859  85.044110\n",
              "        INDIAN                                  23  84.956522\n",
              "        ASIAN                                  237  84.540084\n",
              "        MORE THAN 1 RACE                       261  83.965517\n",
              "        NATIVE AMERICAN INDIAN                  41  82.317073\n",
              "        HISPANIC OR LATINO                    2723  80.808300"
            ]
          },
          "metadata": {
            "tags": []
          },
          "execution_count": 125
        }
      ]
    },
    {
      "cell_type": "markdown",
      "metadata": {
        "id": "XWlWgmHRc-cc"
      },
      "source": [
        "We wanted to find the frequency between the 'sex' and 'status' based on CAN to determin which sex cancelled the most"
      ]
    },
    {
      "cell_type": "code",
      "metadata": {
        "id": "A9zNL7-lc3N0",
        "outputId": "27b14088-c406-4b21-94dd-4469fdcf7596",
        "colab": {
          "base_uri": "https://localhost:8080/",
          "height": 141
        }
      },
      "source": [
        "med_school_df_CAN=med_school_df[med_school_df['status']=='CAN']\n",
        "med_school_df_CAN['sex'].value_counts()\n",
        "gender_freq_rel_CAN = pd.crosstab(index=med_school_df_CAN['sex'], columns=['Rel. Freq.'], colnames=[''], normalize=True)\n",
        "gender_freq_rel_CAN"
      ],
      "execution_count": null,
      "outputs": [
        {
          "output_type": "execute_result",
          "data": {
            "text/html": [
              "<div>\n",
              "<style scoped>\n",
              "    .dataframe tbody tr th:only-of-type {\n",
              "        vertical-align: middle;\n",
              "    }\n",
              "\n",
              "    .dataframe tbody tr th {\n",
              "        vertical-align: top;\n",
              "    }\n",
              "\n",
              "    .dataframe thead th {\n",
              "        text-align: right;\n",
              "    }\n",
              "</style>\n",
              "<table border=\"1\" class=\"dataframe\">\n",
              "  <thead>\n",
              "    <tr style=\"text-align: right;\">\n",
              "      <th></th>\n",
              "      <th>Rel. Freq.</th>\n",
              "    </tr>\n",
              "    <tr>\n",
              "      <th>sex</th>\n",
              "      <th></th>\n",
              "    </tr>\n",
              "  </thead>\n",
              "  <tbody>\n",
              "    <tr>\n",
              "      <th>F</th>\n",
              "      <td>0.636535</td>\n",
              "    </tr>\n",
              "    <tr>\n",
              "      <th>M</th>\n",
              "      <td>0.363465</td>\n",
              "    </tr>\n",
              "  </tbody>\n",
              "</table>\n",
              "</div>"
            ],
            "text/plain": [
              "     Rel. Freq.\n",
              "sex            \n",
              "F      0.636535\n",
              "M      0.363465"
            ]
          },
          "metadata": {
            "tags": []
          },
          "execution_count": 126
        }
      ]
    },
    {
      "cell_type": "markdown",
      "metadata": {
        "id": "uK_Kzgeyf7lq"
      },
      "source": [
        "The graph below shows the count of race to specialty"
      ]
    },
    {
      "cell_type": "code",
      "metadata": {
        "id": "Ye76Eqbpg1aX",
        "outputId": "d03d33e3-18f3-4e8f-c220-fd6910aae50b",
        "colab": {
          "base_uri": "https://localhost:8080/",
          "height": 758
        }
      },
      "source": [
        "med_school_df['race'].value_counts()\n",
        "\n",
        "ax = sns.catplot(y=\"specialty\", hue=\"race\", kind=\"count\",\n",
        "            palette=\"pastel\", edgecolor=\".6\",\n",
        "            data=med_school_df,\n",
        "            height=10)\n",
        "plt.subplots_adjust(top=0.9)\n",
        "ax.fig.suptitle('Count of Results Grouped by Specialty Type')\n"
      ],
      "execution_count": null,
      "outputs": [
        {
          "output_type": "execute_result",
          "data": {
            "text/plain": [
              "Text(0.5, 0.98, 'Count of Results Grouped by Specialty Type')"
            ]
          },
          "metadata": {
            "tags": []
          },
          "execution_count": 119
        },
        {
          "output_type": "display_data",
          "data": {
            "image/png": "[encoded data removed]",
            "text/plain": [
              "<Figure size 1025.98x720 with 1 Axes>"
            ]
          },
          "metadata": {
            "tags": []
          }
        }
      ]
    },
    {
      "cell_type": "markdown",
      "metadata": {
        "id": "_4E_cum0iv_p"
      },
      "source": [
        "Based on the race we found out the avg 'age' which goes to see the doctor and looks like Greek is the hightest number"
      ]
    },
    {
      "cell_type": "code",
      "metadata": {
        "id": "U2IHn6ofjR6I",
        "outputId": "9b9387a1-cf4d-414f-e1c5-171802eda458",
        "colab": {
          "base_uri": "https://localhost:8080/",
          "height": 417
        }
      },
      "source": [
        "race_age = med_school_df[['race', 'age']]\n",
        "race_age_avg = race_age.groupby('race').mean()\n",
        "race_age_avg.sort_values(by='age',ascending=False)"
      ],
      "execution_count": null,
      "outputs": [
        {
          "output_type": "execute_result",
          "data": {
            "text/html": [
              "<div>\n",
              "<style scoped>\n",
              "    .dataframe tbody tr th:only-of-type {\n",
              "        vertical-align: middle;\n",
              "    }\n",
              "\n",
              "    .dataframe tbody tr th {\n",
              "        vertical-align: top;\n",
              "    }\n",
              "\n",
              "    .dataframe thead th {\n",
              "        text-align: right;\n",
              "    }\n",
              "</style>\n",
              "<table border=\"1\" class=\"dataframe\">\n",
              "  <thead>\n",
              "    <tr style=\"text-align: right;\">\n",
              "      <th></th>\n",
              "      <th>age</th>\n",
              "    </tr>\n",
              "    <tr>\n",
              "      <th>race</th>\n",
              "      <th></th>\n",
              "    </tr>\n",
              "  </thead>\n",
              "  <tbody>\n",
              "    <tr>\n",
              "      <th>GREEK</th>\n",
              "      <td>71.250938</td>\n",
              "    </tr>\n",
              "    <tr>\n",
              "      <th>CAUCASIAN/WHITE</th>\n",
              "      <td>61.847069</td>\n",
              "    </tr>\n",
              "    <tr>\n",
              "      <th>NATIVE AMERICAN INDIAN</th>\n",
              "      <td>58.109280</td>\n",
              "    </tr>\n",
              "    <tr>\n",
              "      <th>AFRICAN AMERICAN/BLACK</th>\n",
              "      <td>57.506874</td>\n",
              "    </tr>\n",
              "    <tr>\n",
              "      <th>HISPANIC OR LATINO</th>\n",
              "      <td>51.108955</td>\n",
              "    </tr>\n",
              "    <tr>\n",
              "      <th>OTHER RACE</th>\n",
              "      <td>50.994564</td>\n",
              "    </tr>\n",
              "    <tr>\n",
              "      <th>MIDDLE EASTERN</th>\n",
              "      <td>50.411598</td>\n",
              "    </tr>\n",
              "    <tr>\n",
              "      <th>ASIAN</th>\n",
              "      <td>49.435719</td>\n",
              "    </tr>\n",
              "    <tr>\n",
              "      <th>NATIVE HAWAIIAN OR OTHER PACIFIC ISLANDER</th>\n",
              "      <td>48.698639</td>\n",
              "    </tr>\n",
              "    <tr>\n",
              "      <th>INDIAN</th>\n",
              "      <td>46.916203</td>\n",
              "    </tr>\n",
              "    <tr>\n",
              "      <th>MORE THAN 1 RACE</th>\n",
              "      <td>38.032925</td>\n",
              "    </tr>\n",
              "  </tbody>\n",
              "</table>\n",
              "</div>"
            ],
            "text/plain": [
              "                                                 age\n",
              "race                                                \n",
              "GREEK                                      71.250938\n",
              "CAUCASIAN/WHITE                            61.847069\n",
              "NATIVE AMERICAN INDIAN                     58.109280\n",
              "AFRICAN AMERICAN/BLACK                     57.506874\n",
              "HISPANIC OR LATINO                         51.108955\n",
              "OTHER RACE                                 50.994564\n",
              "MIDDLE EASTERN                             50.411598\n",
              "ASIAN                                      49.435719\n",
              "NATIVE HAWAIIAN OR OTHER PACIFIC ISLANDER  48.698639\n",
              "INDIAN                                     46.916203\n",
              "MORE THAN 1 RACE                           38.032925"
            ]
          },
          "metadata": {
            "tags": []
          },
          "execution_count": 106
        }
      ]
    },
    {
      "cell_type": "markdown",
      "metadata": {
        "id": "vaCfIqplrVI7"
      },
      "source": [
        "Based on the 6 cities we decided to foucs on, the below graph shows the amount of specilaties in those areas"
      ]
    },
    {
      "cell_type": "code",
      "metadata": {
        "id": "Oyq0_URm90Hl",
        "outputId": "b8b7d0b7-109e-4ae7-e5cb-03cb41128f2b",
        "colab": {
          "base_uri": "https://localhost:8080/",
          "height": 760
        }
      },
      "source": [
        "ax = sns.catplot(y=\"specialty\", hue=\"city\", kind=\"count\",\n",
        "            palette=\"pastel\", edgecolor=\".6\",\n",
        "            data=med_school_df,\n",
        "            height=10)\n",
        "plt.subplots_adjust(top=0.9)\n",
        "ax.fig.suptitle('Count of Results Grouped by Specialty Type')"
      ],
      "execution_count": null,
      "outputs": [
        {
          "output_type": "execute_result",
          "data": {
            "text/plain": [
              "Text(0.5, 0.98, 'Count of Results Grouped by Specialty Type')"
            ]
          },
          "metadata": {
            "tags": []
          },
          "execution_count": 107
        },
        {
          "output_type": "display_data",
          "data": {
            "image/png": "[encoded data removed]",
            "text/plain": [
              "<Figure size 857.725x720 with 1 Axes>"
            ]
          },
          "metadata": {
            "tags": []
          }
        }
      ]
    },
    {
      "cell_type": "markdown",
      "metadata": {
        "id": "5Ssn1a7fMTnI"
      },
      "source": [
        "There is an \"I\" value for gender. In order to continue our analysis we will drop the \"I\" value"
      ]
    },
    {
      "cell_type": "code",
      "metadata": {
        "id": "WbFuS-oCMXY6",
        "outputId": "981bad4a-a228-4eba-fcde-43667d7a2173",
        "colab": {
          "base_uri": "https://localhost:8080/",
          "height": 86
        }
      },
      "source": [
        "med_school_df['sex'].value_counts()"
      ],
      "execution_count": null,
      "outputs": [
        {
          "output_type": "execute_result",
          "data": {
            "text/plain": [
              "F    454113\n",
              "M    294655\n",
              "I         8\n",
              "Name: sex, dtype: int64"
            ]
          },
          "metadata": {
            "tags": []
          },
          "execution_count": 108
        }
      ]
    },
    {
      "cell_type": "code",
      "metadata": {
        "id": "ULIap30BMaFu",
        "outputId": "fe575176-f94b-4163-89fe-6dc1ce5b6488",
        "colab": {
          "base_uri": "https://localhost:8080/",
          "height": 141
        }
      },
      "source": [
        "med_school_df.drop(med_school_df[med_school_df['sex']=='I'].index, inplace=True)\n",
        "med_school_df['sex'].value_counts()\n",
        "gender_freq_rel = pd.crosstab(index=med_school_df['sex'], columns=['Rel. Freq.'], colnames=[''], normalize=True)\n",
        "gender_freq_rel"
      ],
      "execution_count": null,
      "outputs": [
        {
          "output_type": "execute_result",
          "data": {
            "text/html": [
              "<div>\n",
              "<style scoped>\n",
              "    .dataframe tbody tr th:only-of-type {\n",
              "        vertical-align: middle;\n",
              "    }\n",
              "\n",
              "    .dataframe tbody tr th {\n",
              "        vertical-align: top;\n",
              "    }\n",
              "\n",
              "    .dataframe thead th {\n",
              "        text-align: right;\n",
              "    }\n",
              "</style>\n",
              "<table border=\"1\" class=\"dataframe\">\n",
              "  <thead>\n",
              "    <tr style=\"text-align: right;\">\n",
              "      <th></th>\n",
              "      <th>Rel. Freq.</th>\n",
              "    </tr>\n",
              "    <tr>\n",
              "      <th>sex</th>\n",
              "      <th></th>\n",
              "    </tr>\n",
              "  </thead>\n",
              "  <tbody>\n",
              "    <tr>\n",
              "      <th>F</th>\n",
              "      <td>0.60648</td>\n",
              "    </tr>\n",
              "    <tr>\n",
              "      <th>M</th>\n",
              "      <td>0.39352</td>\n",
              "    </tr>\n",
              "  </tbody>\n",
              "</table>\n",
              "</div>"
            ],
            "text/plain": [
              "     Rel. Freq.\n",
              "sex            \n",
              "F       0.60648\n",
              "M       0.39352"
            ]
          },
          "metadata": {
            "tags": []
          },
          "execution_count": 109
        }
      ]
    },
    {
      "cell_type": "markdown",
      "metadata": {
        "id": "7wzFZIx_MlYW"
      },
      "source": [
        "The below chart represents the frequency of doctors appointments between male and female from 2014 to 2018. In order to be able to determine the frequency of the appontment, we had to add a column that reports only the year of the year in which each appontment was set.\n",
        "\n"
      ]
    },
    {
      "cell_type": "code",
      "metadata": {
        "id": "QeEVBAPUMq4w",
        "outputId": "7fc27897-e4c8-4222-caf3-7658136b2d6b",
        "colab": {
          "base_uri": "https://localhost:8080/",
          "height": 141
        }
      },
      "source": [
        "med_school_df['appt_year'] = pd.DatetimeIndex(med_school_df['appt_date']).year\n",
        "med_school_df.head(3)"
      ],
      "execution_count": null,
      "outputs": [
        {
          "output_type": "execute_result",
          "data": {
            "text/html": [
              "<div>\n",
              "<style scoped>\n",
              "    .dataframe tbody tr th:only-of-type {\n",
              "        vertical-align: middle;\n",
              "    }\n",
              "\n",
              "    .dataframe tbody tr th {\n",
              "        vertical-align: top;\n",
              "    }\n",
              "\n",
              "    .dataframe thead th {\n",
              "        text-align: right;\n",
              "    }\n",
              "</style>\n",
              "<table border=\"1\" class=\"dataframe\">\n",
              "  <thead>\n",
              "    <tr style=\"text-align: right;\">\n",
              "      <th></th>\n",
              "      <th>race</th>\n",
              "      <th>appt_date</th>\n",
              "      <th>age</th>\n",
              "      <th>status</th>\n",
              "      <th>sex</th>\n",
              "      <th>zip_code</th>\n",
              "      <th>city</th>\n",
              "      <th>specialty</th>\n",
              "      <th>appt_year</th>\n",
              "    </tr>\n",
              "  </thead>\n",
              "  <tbody>\n",
              "    <tr>\n",
              "      <th>2</th>\n",
              "      <td>AFRICAN AMERICAN/BLACK</td>\n",
              "      <td>3/5/2018</td>\n",
              "      <td>64.400002</td>\n",
              "      <td>ARR</td>\n",
              "      <td>F</td>\n",
              "      <td>48025</td>\n",
              "      <td>Bingham Farms</td>\n",
              "      <td>RETINA</td>\n",
              "      <td>2018</td>\n",
              "    </tr>\n",
              "    <tr>\n",
              "      <th>3</th>\n",
              "      <td>AFRICAN AMERICAN/BLACK</td>\n",
              "      <td>12/3/2018</td>\n",
              "      <td>65.099998</td>\n",
              "      <td>ARR</td>\n",
              "      <td>F</td>\n",
              "      <td>48025</td>\n",
              "      <td>Bingham Farms</td>\n",
              "      <td>RETINA</td>\n",
              "      <td>2018</td>\n",
              "    </tr>\n",
              "    <tr>\n",
              "      <th>4</th>\n",
              "      <td>AFRICAN AMERICAN/BLACK</td>\n",
              "      <td>10/9/2017</td>\n",
              "      <td>36.799999</td>\n",
              "      <td>CAN</td>\n",
              "      <td>F</td>\n",
              "      <td>48025</td>\n",
              "      <td>Bingham Farms</td>\n",
              "      <td>RETINA</td>\n",
              "      <td>2017</td>\n",
              "    </tr>\n",
              "  </tbody>\n",
              "</table>\n",
              "</div>"
            ],
            "text/plain": [
              "                     race  appt_date  ...  specialty appt_year\n",
              "2  AFRICAN AMERICAN/BLACK   3/5/2018  ...     RETINA      2018\n",
              "3  AFRICAN AMERICAN/BLACK  12/3/2018  ...     RETINA      2018\n",
              "4  AFRICAN AMERICAN/BLACK  10/9/2017  ...     RETINA      2017\n",
              "\n",
              "[3 rows x 9 columns]"
            ]
          },
          "metadata": {
            "tags": []
          },
          "execution_count": 110
        }
      ]
    },
    {
      "cell_type": "code",
      "metadata": {
        "id": "PBdw0d2-Mud6",
        "outputId": "09ec226f-b6b9-436e-ac30-55292955d76b",
        "colab": {
          "base_uri": "https://localhost:8080/",
          "height": 301
        }
      },
      "source": [
        "male_year_freq = (pd.crosstab(index=med_school_df.loc[med_school_df['sex']=='M','appt_year'],columns='Male Freq.',normalize=False).loc[:, 'Male Freq.'])\n",
        "female_year_freq = (pd.crosstab(index=med_school_df.loc[med_school_df['sex']=='F','appt_year'],columns='Female Freq.',normalize=False).loc[:, 'Female Freq.'])\n",
        "ax = male_year_freq.plot(marker='o', color='darkblue')\n",
        "female_year_freq.plot(marker='o', color='purple', ax=ax, legend=False)\n",
        "ax.legend(['M', 'F'])\n",
        "ax.locator_params(integer=True)\n",
        "plt.title('Frequency of Doctor Appointments: Male vs. Female')\n",
        "plt.xlabel('Year')\n",
        "plt.ylabel('Number of Doctor Appointments')\n",
        "sns.set(rc={'figure.figsize':(10,6)})\n",
        "plt.show()"
      ],
      "execution_count": null,
      "outputs": [
        {
          "output_type": "display_data",
          "data": {
            "image/png": "[encoded data removed]",
            "text/plain": [
              "<Figure size 432x288 with 1 Axes>"
            ]
          },
          "metadata": {
            "tags": []
          }
        }
      ]
    },
    {
      "cell_type": "markdown",
      "metadata": {
        "id": "ZD2F9-lNNlvQ"
      },
      "source": [
        "Based on the race we build a correlation to find out how many NOS\n",
        "\n",
        "\n"
      ]
    },
    {
      "cell_type": "code",
      "metadata": {
        "id": "nBi0-3mV-_a-",
        "outputId": "ed41a08f-d240-47b6-b461-a06f79843146",
        "colab": {
          "base_uri": "https://localhost:8080/",
          "height": 417
        }
      },
      "source": [
        "med_school_df_NOS=med_school_df[med_school_df['status']=='NOS']\n",
        "med_school_df_NOS['race'].value_counts()\n",
        "race_freq_rel_NOS = pd.crosstab(index=med_school_df_CAN['race'], columns=['Rel. Freq.'], colnames=[''], normalize=True)\n",
        "race_freq_rel_NOS.apply(lambda p: np.round(p, 3))\n"
      ],
      "execution_count": null,
      "outputs": [
        {
          "output_type": "execute_result",
          "data": {
            "text/html": [
              "<div>\n",
              "<style scoped>\n",
              "    .dataframe tbody tr th:only-of-type {\n",
              "        vertical-align: middle;\n",
              "    }\n",
              "\n",
              "    .dataframe tbody tr th {\n",
              "        vertical-align: top;\n",
              "    }\n",
              "\n",
              "    .dataframe thead th {\n",
              "        text-align: right;\n",
              "    }\n",
              "</style>\n",
              "<table border=\"1\" class=\"dataframe\">\n",
              "  <thead>\n",
              "    <tr style=\"text-align: right;\">\n",
              "      <th></th>\n",
              "      <th>Rel. Freq.</th>\n",
              "    </tr>\n",
              "    <tr>\n",
              "      <th>race</th>\n",
              "      <th></th>\n",
              "    </tr>\n",
              "  </thead>\n",
              "  <tbody>\n",
              "    <tr>\n",
              "      <th>AFRICAN AMERICAN/BLACK</th>\n",
              "      <td>0.626</td>\n",
              "    </tr>\n",
              "    <tr>\n",
              "      <th>ASIAN</th>\n",
              "      <td>0.015</td>\n",
              "    </tr>\n",
              "    <tr>\n",
              "      <th>CAUCASIAN/WHITE</th>\n",
              "      <td>0.282</td>\n",
              "    </tr>\n",
              "    <tr>\n",
              "      <th>GREEK</th>\n",
              "      <td>0.001</td>\n",
              "    </tr>\n",
              "    <tr>\n",
              "      <th>HISPANIC OR LATINO</th>\n",
              "      <td>0.017</td>\n",
              "    </tr>\n",
              "    <tr>\n",
              "      <th>INDIAN</th>\n",
              "      <td>0.003</td>\n",
              "    </tr>\n",
              "    <tr>\n",
              "      <th>MIDDLE EASTERN</th>\n",
              "      <td>0.027</td>\n",
              "    </tr>\n",
              "    <tr>\n",
              "      <th>MORE THAN 1 RACE</th>\n",
              "      <td>0.003</td>\n",
              "    </tr>\n",
              "    <tr>\n",
              "      <th>NATIVE AMERICAN INDIAN</th>\n",
              "      <td>0.001</td>\n",
              "    </tr>\n",
              "    <tr>\n",
              "      <th>NATIVE HAWAIIAN OR OTHER PACIFIC ISLANDER</th>\n",
              "      <td>0.000</td>\n",
              "    </tr>\n",
              "    <tr>\n",
              "      <th>OTHER RACE</th>\n",
              "      <td>0.026</td>\n",
              "    </tr>\n",
              "  </tbody>\n",
              "</table>\n",
              "</div>"
            ],
            "text/plain": [
              "                                           Rel. Freq.\n",
              "race                                                 \n",
              "AFRICAN AMERICAN/BLACK                          0.626\n",
              "ASIAN                                           0.015\n",
              "CAUCASIAN/WHITE                                 0.282\n",
              "GREEK                                           0.001\n",
              "HISPANIC OR LATINO                              0.017\n",
              "INDIAN                                          0.003\n",
              "MIDDLE EASTERN                                  0.027\n",
              "MORE THAN 1 RACE                                0.003\n",
              "NATIVE AMERICAN INDIAN                          0.001\n",
              "NATIVE HAWAIIAN OR OTHER PACIFIC ISLANDER       0.000\n",
              "OTHER RACE                                      0.026"
            ]
          },
          "metadata": {
            "tags": []
          },
          "execution_count": 112
        }
      ]
    },
    {
      "cell_type": "markdown",
      "metadata": {
        "id": "YW5X_dIdN2P7"
      },
      "source": [
        "Based on the race we build a correlation to find out how many CAN\n",
        "\n"
      ]
    },
    {
      "cell_type": "code",
      "metadata": {
        "id": "dOphJ7nv_Ywh",
        "outputId": "5b4a0647-dc27-4fad-de52-d6555bcbde85",
        "colab": {
          "base_uri": "https://localhost:8080/",
          "height": 417
        }
      },
      "source": [
        "med_school_df_CAN=med_school_df[med_school_df['status']=='CAN']\n",
        "med_school_df_CAN['race'].value_counts()\n",
        "race_freq_rel_CAN = pd.crosstab(index=med_school_df_CAN['race'], columns=['Rel. Freq.'], colnames=[''], normalize=True)\n",
        "race_freq_rel_CAN.apply(lambda p: np.round(p, 3))"
      ],
      "execution_count": null,
      "outputs": [
        {
          "output_type": "execute_result",
          "data": {
            "text/html": [
              "<div>\n",
              "<style scoped>\n",
              "    .dataframe tbody tr th:only-of-type {\n",
              "        vertical-align: middle;\n",
              "    }\n",
              "\n",
              "    .dataframe tbody tr th {\n",
              "        vertical-align: top;\n",
              "    }\n",
              "\n",
              "    .dataframe thead th {\n",
              "        text-align: right;\n",
              "    }\n",
              "</style>\n",
              "<table border=\"1\" class=\"dataframe\">\n",
              "  <thead>\n",
              "    <tr style=\"text-align: right;\">\n",
              "      <th></th>\n",
              "      <th>Rel. Freq.</th>\n",
              "    </tr>\n",
              "    <tr>\n",
              "      <th>race</th>\n",
              "      <th></th>\n",
              "    </tr>\n",
              "  </thead>\n",
              "  <tbody>\n",
              "    <tr>\n",
              "      <th>AFRICAN AMERICAN/BLACK</th>\n",
              "      <td>0.626</td>\n",
              "    </tr>\n",
              "    <tr>\n",
              "      <th>ASIAN</th>\n",
              "      <td>0.015</td>\n",
              "    </tr>\n",
              "    <tr>\n",
              "      <th>CAUCASIAN/WHITE</th>\n",
              "      <td>0.282</td>\n",
              "    </tr>\n",
              "    <tr>\n",
              "      <th>GREEK</th>\n",
              "      <td>0.001</td>\n",
              "    </tr>\n",
              "    <tr>\n",
              "      <th>HISPANIC OR LATINO</th>\n",
              "      <td>0.017</td>\n",
              "    </tr>\n",
              "    <tr>\n",
              "      <th>INDIAN</th>\n",
              "      <td>0.003</td>\n",
              "    </tr>\n",
              "    <tr>\n",
              "      <th>MIDDLE EASTERN</th>\n",
              "      <td>0.027</td>\n",
              "    </tr>\n",
              "    <tr>\n",
              "      <th>MORE THAN 1 RACE</th>\n",
              "      <td>0.003</td>\n",
              "    </tr>\n",
              "    <tr>\n",
              "      <th>NATIVE AMERICAN INDIAN</th>\n",
              "      <td>0.001</td>\n",
              "    </tr>\n",
              "    <tr>\n",
              "      <th>NATIVE HAWAIIAN OR OTHER PACIFIC ISLANDER</th>\n",
              "      <td>0.000</td>\n",
              "    </tr>\n",
              "    <tr>\n",
              "      <th>OTHER RACE</th>\n",
              "      <td>0.026</td>\n",
              "    </tr>\n",
              "  </tbody>\n",
              "</table>\n",
              "</div>"
            ],
            "text/plain": [
              "                                           Rel. Freq.\n",
              "race                                                 \n",
              "AFRICAN AMERICAN/BLACK                          0.626\n",
              "ASIAN                                           0.015\n",
              "CAUCASIAN/WHITE                                 0.282\n",
              "GREEK                                           0.001\n",
              "HISPANIC OR LATINO                              0.017\n",
              "INDIAN                                          0.003\n",
              "MIDDLE EASTERN                                  0.027\n",
              "MORE THAN 1 RACE                                0.003\n",
              "NATIVE AMERICAN INDIAN                          0.001\n",
              "NATIVE HAWAIIAN OR OTHER PACIFIC ISLANDER       0.000\n",
              "OTHER RACE                                      0.026"
            ]
          },
          "metadata": {
            "tags": []
          },
          "execution_count": 113
        }
      ]
    },
    {
      "cell_type": "markdown",
      "metadata": {
        "id": "QjwuAq0QN-aF"
      },
      "source": [
        "Based on the sex we build a correlation to find out how many ARR"
      ]
    },
    {
      "cell_type": "code",
      "metadata": {
        "id": "I3RuTXVe_lZY",
        "outputId": "5abeae84-4eb0-4102-f59d-ebb56a65faa4",
        "colab": {
          "base_uri": "https://localhost:8080/",
          "height": 141
        }
      },
      "source": [
        "med_school_df_ARR=med_school_df[med_school_df['status']=='ARR']\n",
        "med_school_df_ARR['sex'].value_counts()\n",
        "race_freq_rel_ARR = pd.crosstab(index=med_school_df_CAN['sex'], columns=['Rel. Freq.'], colnames=[''], normalize=True)\n",
        "race_freq_rel_ARR.apply(lambda p: np.round(p, 3))"
      ],
      "execution_count": null,
      "outputs": [
        {
          "output_type": "execute_result",
          "data": {
            "text/html": [
              "<div>\n",
              "<style scoped>\n",
              "    .dataframe tbody tr th:only-of-type {\n",
              "        vertical-align: middle;\n",
              "    }\n",
              "\n",
              "    .dataframe tbody tr th {\n",
              "        vertical-align: top;\n",
              "    }\n",
              "\n",
              "    .dataframe thead th {\n",
              "        text-align: right;\n",
              "    }\n",
              "</style>\n",
              "<table border=\"1\" class=\"dataframe\">\n",
              "  <thead>\n",
              "    <tr style=\"text-align: right;\">\n",
              "      <th></th>\n",
              "      <th>Rel. Freq.</th>\n",
              "    </tr>\n",
              "    <tr>\n",
              "      <th>sex</th>\n",
              "      <th></th>\n",
              "    </tr>\n",
              "  </thead>\n",
              "  <tbody>\n",
              "    <tr>\n",
              "      <th>F</th>\n",
              "      <td>0.637</td>\n",
              "    </tr>\n",
              "    <tr>\n",
              "      <th>M</th>\n",
              "      <td>0.363</td>\n",
              "    </tr>\n",
              "  </tbody>\n",
              "</table>\n",
              "</div>"
            ],
            "text/plain": [
              "     Rel. Freq.\n",
              "sex            \n",
              "F         0.637\n",
              "M         0.363"
            ]
          },
          "metadata": {
            "tags": []
          },
          "execution_count": 114
        }
      ]
    },
    {
      "cell_type": "markdown",
      "metadata": {
        "id": "XS-1Wa9q2LNV"
      },
      "source": [
        "Based on the weather dataset gathered for Bingham Farms, Detroit, Dearborn,Southfield, Warren and Dearborn Heights (https://www.wunderground.com/weather/us/mi/) some CAN and NOS were related to the weather."
      ]
    },
    {
      "cell_type": "code",
      "metadata": {
        "id": "1Bx2nXYXEAqg",
        "outputId": "188e2a05-45cd-4e16-9274-b5cfdcf08767",
        "colab": {
          "base_uri": "https://localhost:8080/",
          "height": 416
        }
      },
      "source": [
        "merge_df = pd.merge(weather_df, med_school_df[['city','status','appt_date', 'race','age']], on='city')\n",
        "merge_df['status'].value_counts()\n",
        "merge_df = merge_df[merge_df.status.isin(['CAN','NOS'])]\n",
        "merge_df = merge_df[merge_df.city.isin(['Detroit'])]\n",
        "merge_df"
      ],
      "execution_count": null,
      "outputs": [
        {
          "output_type": "execute_result",
          "data": {
            "text/html": [
              "<div>\n",
              "<style scoped>\n",
              "    .dataframe tbody tr th:only-of-type {\n",
              "        vertical-align: middle;\n",
              "    }\n",
              "\n",
              "    .dataframe tbody tr th {\n",
              "        vertical-align: top;\n",
              "    }\n",
              "\n",
              "    .dataframe thead th {\n",
              "        text-align: right;\n",
              "    }\n",
              "</style>\n",
              "<table border=\"1\" class=\"dataframe\">\n",
              "  <thead>\n",
              "    <tr style=\"text-align: right;\">\n",
              "      <th></th>\n",
              "      <th>city</th>\n",
              "      <th>date</th>\n",
              "      <th>temp_avg</th>\n",
              "      <th>wind_speed_avg</th>\n",
              "      <th>precipitation</th>\n",
              "      <th>status</th>\n",
              "      <th>appt_date</th>\n",
              "      <th>race</th>\n",
              "      <th>age</th>\n",
              "    </tr>\n",
              "  </thead>\n",
              "  <tbody>\n",
              "    <tr>\n",
              "      <th>61652072</th>\n",
              "      <td>Detroit</td>\n",
              "      <td>1/1/2015</td>\n",
              "      <td>25.3</td>\n",
              "      <td>16.5</td>\n",
              "      <td>0.00</td>\n",
              "      <td>NOS</td>\n",
              "      <td>7/3/2017</td>\n",
              "      <td>AFRICAN AMERICAN/BLACK</td>\n",
              "      <td>61.200001</td>\n",
              "    </tr>\n",
              "    <tr>\n",
              "      <th>61652073</th>\n",
              "      <td>Detroit</td>\n",
              "      <td>1/1/2015</td>\n",
              "      <td>25.3</td>\n",
              "      <td>16.5</td>\n",
              "      <td>0.00</td>\n",
              "      <td>CAN</td>\n",
              "      <td>8/29/2016</td>\n",
              "      <td>AFRICAN AMERICAN/BLACK</td>\n",
              "      <td>53.799999</td>\n",
              "    </tr>\n",
              "    <tr>\n",
              "      <th>61652074</th>\n",
              "      <td>Detroit</td>\n",
              "      <td>1/1/2015</td>\n",
              "      <td>25.3</td>\n",
              "      <td>16.5</td>\n",
              "      <td>0.00</td>\n",
              "      <td>CAN</td>\n",
              "      <td>8/14/2017</td>\n",
              "      <td>AFRICAN AMERICAN/BLACK</td>\n",
              "      <td>54.799999</td>\n",
              "    </tr>\n",
              "    <tr>\n",
              "      <th>61652077</th>\n",
              "      <td>Detroit</td>\n",
              "      <td>1/1/2015</td>\n",
              "      <td>25.3</td>\n",
              "      <td>16.5</td>\n",
              "      <td>0.00</td>\n",
              "      <td>CAN</td>\n",
              "      <td>2/6/2017</td>\n",
              "      <td>AFRICAN AMERICAN/BLACK</td>\n",
              "      <td>47.700001</td>\n",
              "    </tr>\n",
              "    <tr>\n",
              "      <th>61652078</th>\n",
              "      <td>Detroit</td>\n",
              "      <td>1/1/2015</td>\n",
              "      <td>25.3</td>\n",
              "      <td>16.5</td>\n",
              "      <td>0.00</td>\n",
              "      <td>NOS</td>\n",
              "      <td>1/9/2017</td>\n",
              "      <td>AFRICAN AMERICAN/BLACK</td>\n",
              "      <td>43.200001</td>\n",
              "    </tr>\n",
              "    <tr>\n",
              "      <th>...</th>\n",
              "      <td>...</td>\n",
              "      <td>...</td>\n",
              "      <td>...</td>\n",
              "      <td>...</td>\n",
              "      <td>...</td>\n",
              "      <td>...</td>\n",
              "      <td>...</td>\n",
              "      <td>...</td>\n",
              "      <td>...</td>\n",
              "    </tr>\n",
              "    <tr>\n",
              "      <th>64892605</th>\n",
              "      <td>Detroit</td>\n",
              "      <td>3/31/2015</td>\n",
              "      <td>37.7</td>\n",
              "      <td>8.8</td>\n",
              "      <td>0.23</td>\n",
              "      <td>NOS</td>\n",
              "      <td>8/5/2015</td>\n",
              "      <td>AFRICAN AMERICAN/BLACK</td>\n",
              "      <td>57.900002</td>\n",
              "    </tr>\n",
              "    <tr>\n",
              "      <th>64892606</th>\n",
              "      <td>Detroit</td>\n",
              "      <td>3/31/2015</td>\n",
              "      <td>37.7</td>\n",
              "      <td>8.8</td>\n",
              "      <td>0.23</td>\n",
              "      <td>NOS</td>\n",
              "      <td>12/2/2015</td>\n",
              "      <td>AFRICAN AMERICAN/BLACK</td>\n",
              "      <td>57.799999</td>\n",
              "    </tr>\n",
              "    <tr>\n",
              "      <th>64892607</th>\n",
              "      <td>Detroit</td>\n",
              "      <td>3/31/2015</td>\n",
              "      <td>37.7</td>\n",
              "      <td>8.8</td>\n",
              "      <td>0.23</td>\n",
              "      <td>CAN</td>\n",
              "      <td>1/15/2014</td>\n",
              "      <td>AFRICAN AMERICAN/BLACK</td>\n",
              "      <td>57.700001</td>\n",
              "    </tr>\n",
              "    <tr>\n",
              "      <th>64892608</th>\n",
              "      <td>Detroit</td>\n",
              "      <td>3/31/2015</td>\n",
              "      <td>37.7</td>\n",
              "      <td>8.8</td>\n",
              "      <td>0.23</td>\n",
              "      <td>CAN</td>\n",
              "      <td>1/29/2014</td>\n",
              "      <td>AFRICAN AMERICAN/BLACK</td>\n",
              "      <td>61.500000</td>\n",
              "    </tr>\n",
              "    <tr>\n",
              "      <th>64892609</th>\n",
              "      <td>Detroit</td>\n",
              "      <td>3/31/2015</td>\n",
              "      <td>37.7</td>\n",
              "      <td>8.8</td>\n",
              "      <td>0.23</td>\n",
              "      <td>CAN</td>\n",
              "      <td>2/19/2014</td>\n",
              "      <td>CAUCASIAN/WHITE</td>\n",
              "      <td>77.699997</td>\n",
              "    </tr>\n",
              "  </tbody>\n",
              "</table>\n",
              "<p>1498770 rows × 9 columns</p>\n",
              "</div>"
            ],
            "text/plain": [
              "             city       date  ...                    race        age\n",
              "61652072  Detroit   1/1/2015  ...  AFRICAN AMERICAN/BLACK  61.200001\n",
              "61652073  Detroit   1/1/2015  ...  AFRICAN AMERICAN/BLACK  53.799999\n",
              "61652074  Detroit   1/1/2015  ...  AFRICAN AMERICAN/BLACK  54.799999\n",
              "61652077  Detroit   1/1/2015  ...  AFRICAN AMERICAN/BLACK  47.700001\n",
              "61652078  Detroit   1/1/2015  ...  AFRICAN AMERICAN/BLACK  43.200001\n",
              "...           ...        ...  ...                     ...        ...\n",
              "64892605  Detroit  3/31/2015  ...  AFRICAN AMERICAN/BLACK  57.900002\n",
              "64892606  Detroit  3/31/2015  ...  AFRICAN AMERICAN/BLACK  57.799999\n",
              "64892607  Detroit  3/31/2015  ...  AFRICAN AMERICAN/BLACK  57.700001\n",
              "64892608  Detroit  3/31/2015  ...  AFRICAN AMERICAN/BLACK  61.500000\n",
              "64892609  Detroit  3/31/2015  ...         CAUCASIAN/WHITE  77.699997\n",
              "\n",
              "[1498770 rows x 9 columns]"
            ]
          },
          "metadata": {
            "tags": []
          },
          "execution_count": 115
        }
      ]
    },
    {
      "cell_type": "markdown",
      "metadata": {
        "id": "L3Shp_IST4h7"
      },
      "source": [
        "As the table below shows, during March for the city of Detroit the weather was below 40 degrees and most patients where above 50 so it was too cold for them to make the appointment."
      ]
    },
    {
      "cell_type": "code",
      "metadata": {
        "id": "rUxWpdM_MXt-",
        "outputId": "f1985188-c317-4fe2-ff1e-602d2bb41562",
        "colab": {
          "base_uri": "https://localhost:8080/",
          "height": 662
        }
      },
      "source": [
        "merge_df.sort_values(\"city\", inplace = True)\n",
        "filter1 = merge_df[\"city\"]==\"Detroit\"\n",
        "filter2 = merge_df[\"appt_date\"]==\"3/31/2015\"\n",
        "filter3 = merge_df[\"temp_avg\"] < 40\n",
        "filter4 = merge_df[\"date\"] ==\"3/31/2015\"\n",
        "merge_df.where(filter1 & filter2 & filter3 & filter4, inplace = True)\n",
        "merge_df.head(20)"
      ],
      "execution_count": null,
      "outputs": [
        {
          "output_type": "execute_result",
          "data": {
            "text/html": [
              "<div>\n",
              "<style scoped>\n",
              "    .dataframe tbody tr th:only-of-type {\n",
              "        vertical-align: middle;\n",
              "    }\n",
              "\n",
              "    .dataframe tbody tr th {\n",
              "        vertical-align: top;\n",
              "    }\n",
              "\n",
              "    .dataframe thead th {\n",
              "        text-align: right;\n",
              "    }\n",
              "</style>\n",
              "<table border=\"1\" class=\"dataframe\">\n",
              "  <thead>\n",
              "    <tr style=\"text-align: right;\">\n",
              "      <th></th>\n",
              "      <th>city</th>\n",
              "      <th>date</th>\n",
              "      <th>temp_avg</th>\n",
              "      <th>wind_speed_avg</th>\n",
              "      <th>precipitation</th>\n",
              "      <th>status</th>\n",
              "      <th>appt_date</th>\n",
              "      <th>race</th>\n",
              "      <th>age</th>\n",
              "    </tr>\n",
              "  </thead>\n",
              "  <tbody>\n",
              "    <tr>\n",
              "      <th>64883622</th>\n",
              "      <td>Detroit</td>\n",
              "      <td>3/31/2015</td>\n",
              "      <td>37.7</td>\n",
              "      <td>8.8</td>\n",
              "      <td>0.23</td>\n",
              "      <td>NOS</td>\n",
              "      <td>3/31/2015</td>\n",
              "      <td>AFRICAN AMERICAN/BLACK</td>\n",
              "      <td>61.000000</td>\n",
              "    </tr>\n",
              "    <tr>\n",
              "      <th>64865429</th>\n",
              "      <td>Detroit</td>\n",
              "      <td>3/31/2015</td>\n",
              "      <td>37.7</td>\n",
              "      <td>8.8</td>\n",
              "      <td>0.23</td>\n",
              "      <td>CAN</td>\n",
              "      <td>3/31/2015</td>\n",
              "      <td>AFRICAN AMERICAN/BLACK</td>\n",
              "      <td>13.700000</td>\n",
              "    </tr>\n",
              "    <tr>\n",
              "      <th>64865450</th>\n",
              "      <td>Detroit</td>\n",
              "      <td>3/31/2015</td>\n",
              "      <td>37.7</td>\n",
              "      <td>8.8</td>\n",
              "      <td>0.23</td>\n",
              "      <td>NOS</td>\n",
              "      <td>3/31/2015</td>\n",
              "      <td>HISPANIC OR LATINO</td>\n",
              "      <td>19.600000</td>\n",
              "    </tr>\n",
              "    <tr>\n",
              "      <th>64866790</th>\n",
              "      <td>Detroit</td>\n",
              "      <td>3/31/2015</td>\n",
              "      <td>37.7</td>\n",
              "      <td>8.8</td>\n",
              "      <td>0.23</td>\n",
              "      <td>CAN</td>\n",
              "      <td>3/31/2015</td>\n",
              "      <td>AFRICAN AMERICAN/BLACK</td>\n",
              "      <td>15.900000</td>\n",
              "    </tr>\n",
              "    <tr>\n",
              "      <th>64866534</th>\n",
              "      <td>Detroit</td>\n",
              "      <td>3/31/2015</td>\n",
              "      <td>37.7</td>\n",
              "      <td>8.8</td>\n",
              "      <td>0.23</td>\n",
              "      <td>CAN</td>\n",
              "      <td>3/31/2015</td>\n",
              "      <td>AFRICAN AMERICAN/BLACK</td>\n",
              "      <td>25.500000</td>\n",
              "    </tr>\n",
              "    <tr>\n",
              "      <th>64866701</th>\n",
              "      <td>Detroit</td>\n",
              "      <td>3/31/2015</td>\n",
              "      <td>37.7</td>\n",
              "      <td>8.8</td>\n",
              "      <td>0.23</td>\n",
              "      <td>CAN</td>\n",
              "      <td>3/31/2015</td>\n",
              "      <td>AFRICAN AMERICAN/BLACK</td>\n",
              "      <td>11.600000</td>\n",
              "    </tr>\n",
              "    <tr>\n",
              "      <th>64859215</th>\n",
              "      <td>Detroit</td>\n",
              "      <td>3/31/2015</td>\n",
              "      <td>37.7</td>\n",
              "      <td>8.8</td>\n",
              "      <td>0.23</td>\n",
              "      <td>NOS</td>\n",
              "      <td>3/31/2015</td>\n",
              "      <td>AFRICAN AMERICAN/BLACK</td>\n",
              "      <td>11.700000</td>\n",
              "    </tr>\n",
              "    <tr>\n",
              "      <th>64859271</th>\n",
              "      <td>Detroit</td>\n",
              "      <td>3/31/2015</td>\n",
              "      <td>37.7</td>\n",
              "      <td>8.8</td>\n",
              "      <td>0.23</td>\n",
              "      <td>NOS</td>\n",
              "      <td>3/31/2015</td>\n",
              "      <td>AFRICAN AMERICAN/BLACK</td>\n",
              "      <td>3.600000</td>\n",
              "    </tr>\n",
              "    <tr>\n",
              "      <th>64859699</th>\n",
              "      <td>Detroit</td>\n",
              "      <td>3/31/2015</td>\n",
              "      <td>37.7</td>\n",
              "      <td>8.8</td>\n",
              "      <td>0.23</td>\n",
              "      <td>CAN</td>\n",
              "      <td>3/31/2015</td>\n",
              "      <td>AFRICAN AMERICAN/BLACK</td>\n",
              "      <td>7.300000</td>\n",
              "    </tr>\n",
              "    <tr>\n",
              "      <th>64859700</th>\n",
              "      <td>Detroit</td>\n",
              "      <td>3/31/2015</td>\n",
              "      <td>37.7</td>\n",
              "      <td>8.8</td>\n",
              "      <td>0.23</td>\n",
              "      <td>CAN</td>\n",
              "      <td>3/31/2015</td>\n",
              "      <td>AFRICAN AMERICAN/BLACK</td>\n",
              "      <td>7.300000</td>\n",
              "    </tr>\n",
              "    <tr>\n",
              "      <th>64859985</th>\n",
              "      <td>Detroit</td>\n",
              "      <td>3/31/2015</td>\n",
              "      <td>37.7</td>\n",
              "      <td>8.8</td>\n",
              "      <td>0.23</td>\n",
              "      <td>CAN</td>\n",
              "      <td>3/31/2015</td>\n",
              "      <td>CAUCASIAN/WHITE</td>\n",
              "      <td>1.200000</td>\n",
              "    </tr>\n",
              "    <tr>\n",
              "      <th>64859950</th>\n",
              "      <td>Detroit</td>\n",
              "      <td>3/31/2015</td>\n",
              "      <td>37.7</td>\n",
              "      <td>8.8</td>\n",
              "      <td>0.23</td>\n",
              "      <td>CAN</td>\n",
              "      <td>3/31/2015</td>\n",
              "      <td>AFRICAN AMERICAN/BLACK</td>\n",
              "      <td>15.500000</td>\n",
              "    </tr>\n",
              "    <tr>\n",
              "      <th>64860382</th>\n",
              "      <td>Detroit</td>\n",
              "      <td>3/31/2015</td>\n",
              "      <td>37.7</td>\n",
              "      <td>8.8</td>\n",
              "      <td>0.23</td>\n",
              "      <td>NOS</td>\n",
              "      <td>3/31/2015</td>\n",
              "      <td>AFRICAN AMERICAN/BLACK</td>\n",
              "      <td>25.100000</td>\n",
              "    </tr>\n",
              "    <tr>\n",
              "      <th>64860646</th>\n",
              "      <td>Detroit</td>\n",
              "      <td>3/31/2015</td>\n",
              "      <td>37.7</td>\n",
              "      <td>8.8</td>\n",
              "      <td>0.23</td>\n",
              "      <td>CAN</td>\n",
              "      <td>3/31/2015</td>\n",
              "      <td>AFRICAN AMERICAN/BLACK</td>\n",
              "      <td>63.599998</td>\n",
              "    </tr>\n",
              "    <tr>\n",
              "      <th>64859780</th>\n",
              "      <td>Detroit</td>\n",
              "      <td>3/31/2015</td>\n",
              "      <td>37.7</td>\n",
              "      <td>8.8</td>\n",
              "      <td>0.23</td>\n",
              "      <td>NOS</td>\n",
              "      <td>3/31/2015</td>\n",
              "      <td>AFRICAN AMERICAN/BLACK</td>\n",
              "      <td>14.900000</td>\n",
              "    </tr>\n",
              "    <tr>\n",
              "      <th>64859778</th>\n",
              "      <td>Detroit</td>\n",
              "      <td>3/31/2015</td>\n",
              "      <td>37.7</td>\n",
              "      <td>8.8</td>\n",
              "      <td>0.23</td>\n",
              "      <td>NOS</td>\n",
              "      <td>3/31/2015</td>\n",
              "      <td>AFRICAN AMERICAN/BLACK</td>\n",
              "      <td>51.799999</td>\n",
              "    </tr>\n",
              "    <tr>\n",
              "      <th>64858852</th>\n",
              "      <td>Detroit</td>\n",
              "      <td>3/31/2015</td>\n",
              "      <td>37.7</td>\n",
              "      <td>8.8</td>\n",
              "      <td>0.23</td>\n",
              "      <td>CAN</td>\n",
              "      <td>3/31/2015</td>\n",
              "      <td>AFRICAN AMERICAN/BLACK</td>\n",
              "      <td>22.799999</td>\n",
              "    </tr>\n",
              "    <tr>\n",
              "      <th>64859779</th>\n",
              "      <td>Detroit</td>\n",
              "      <td>3/31/2015</td>\n",
              "      <td>37.7</td>\n",
              "      <td>8.8</td>\n",
              "      <td>0.23</td>\n",
              "      <td>NOS</td>\n",
              "      <td>3/31/2015</td>\n",
              "      <td>AFRICAN AMERICAN/BLACK</td>\n",
              "      <td>17.700001</td>\n",
              "    </tr>\n",
              "    <tr>\n",
              "      <th>64881482</th>\n",
              "      <td>Detroit</td>\n",
              "      <td>3/31/2015</td>\n",
              "      <td>37.7</td>\n",
              "      <td>8.8</td>\n",
              "      <td>0.23</td>\n",
              "      <td>CAN</td>\n",
              "      <td>3/31/2015</td>\n",
              "      <td>AFRICAN AMERICAN/BLACK</td>\n",
              "      <td>70.000000</td>\n",
              "    </tr>\n",
              "    <tr>\n",
              "      <th>64880869</th>\n",
              "      <td>Detroit</td>\n",
              "      <td>3/31/2015</td>\n",
              "      <td>37.7</td>\n",
              "      <td>8.8</td>\n",
              "      <td>0.23</td>\n",
              "      <td>CAN</td>\n",
              "      <td>3/31/2015</td>\n",
              "      <td>AFRICAN AMERICAN/BLACK</td>\n",
              "      <td>34.200001</td>\n",
              "    </tr>\n",
              "  </tbody>\n",
              "</table>\n",
              "</div>"
            ],
            "text/plain": [
              "             city       date  ...                    race        age\n",
              "64883622  Detroit  3/31/2015  ...  AFRICAN AMERICAN/BLACK  61.000000\n",
              "64865429  Detroit  3/31/2015  ...  AFRICAN AMERICAN/BLACK  13.700000\n",
              "64865450  Detroit  3/31/2015  ...      HISPANIC OR LATINO  19.600000\n",
              "64866790  Detroit  3/31/2015  ...  AFRICAN AMERICAN/BLACK  15.900000\n",
              "64866534  Detroit  3/31/2015  ...  AFRICAN AMERICAN/BLACK  25.500000\n",
              "64866701  Detroit  3/31/2015  ...  AFRICAN AMERICAN/BLACK  11.600000\n",
              "64859215  Detroit  3/31/2015  ...  AFRICAN AMERICAN/BLACK  11.700000\n",
              "64859271  Detroit  3/31/2015  ...  AFRICAN AMERICAN/BLACK   3.600000\n",
              "64859699  Detroit  3/31/2015  ...  AFRICAN AMERICAN/BLACK   7.300000\n",
              "64859700  Detroit  3/31/2015  ...  AFRICAN AMERICAN/BLACK   7.300000\n",
              "64859985  Detroit  3/31/2015  ...         CAUCASIAN/WHITE   1.200000\n",
              "64859950  Detroit  3/31/2015  ...  AFRICAN AMERICAN/BLACK  15.500000\n",
              "64860382  Detroit  3/31/2015  ...  AFRICAN AMERICAN/BLACK  25.100000\n",
              "64860646  Detroit  3/31/2015  ...  AFRICAN AMERICAN/BLACK  63.599998\n",
              "64859780  Detroit  3/31/2015  ...  AFRICAN AMERICAN/BLACK  14.900000\n",
              "64859778  Detroit  3/31/2015  ...  AFRICAN AMERICAN/BLACK  51.799999\n",
              "64858852  Detroit  3/31/2015  ...  AFRICAN AMERICAN/BLACK  22.799999\n",
              "64859779  Detroit  3/31/2015  ...  AFRICAN AMERICAN/BLACK  17.700001\n",
              "64881482  Detroit  3/31/2015  ...  AFRICAN AMERICAN/BLACK  70.000000\n",
              "64880869  Detroit  3/31/2015  ...  AFRICAN AMERICAN/BLACK  34.200001\n",
              "\n",
              "[20 rows x 9 columns]"
            ]
          },
          "metadata": {
            "tags": []
          },
          "execution_count": 118
        }
      ]
    },
    {
      "cell_type": "markdown",
      "metadata": {
        "id": "Mz3aCIJAbvnZ"
      },
      "source": [
        "The table below also shows the correlation between status and city with the weather below 40 degree"
      ]
    },
    {
      "cell_type": "code",
      "metadata": {
        "id": "zkwbaNk5D9TI",
        "outputId": "d079e662-fd6b-485a-8d27-5565ebc01486",
        "colab": {
          "base_uri": "https://localhost:8080/",
          "height": 356
        }
      },
      "source": [
        "merge_df.sort_values(\"city\", inplace = True)\n",
        "filter1 = merge_df[\"city\"]==\"Detroit\"\n",
        "#filter2 = merge_df[\"status\"]==\"CAN\"\n",
        "filter3 = merge_df[\"temp_avg\"] < 40\n",
        "merge_df.where(filter1 & filter3, inplace = True)\n",
        "merge_df.head(10)"
      ],
      "execution_count": null,
      "outputs": [
        {
          "output_type": "execute_result",
          "data": {
            "text/html": [
              "<div>\n",
              "<style scoped>\n",
              "    .dataframe tbody tr th:only-of-type {\n",
              "        vertical-align: middle;\n",
              "    }\n",
              "\n",
              "    .dataframe tbody tr th {\n",
              "        vertical-align: top;\n",
              "    }\n",
              "\n",
              "    .dataframe thead th {\n",
              "        text-align: right;\n",
              "    }\n",
              "</style>\n",
              "<table border=\"1\" class=\"dataframe\">\n",
              "  <thead>\n",
              "    <tr style=\"text-align: right;\">\n",
              "      <th></th>\n",
              "      <th>city</th>\n",
              "      <th>date</th>\n",
              "      <th>temp_avg</th>\n",
              "      <th>wind_speed_avg</th>\n",
              "      <th>precipitation</th>\n",
              "      <th>status</th>\n",
              "      <th>appt_date</th>\n",
              "      <th>race</th>\n",
              "      <th>age</th>\n",
              "    </tr>\n",
              "  </thead>\n",
              "  <tbody>\n",
              "    <tr>\n",
              "      <th>61652072</th>\n",
              "      <td>Detroit</td>\n",
              "      <td>1/1/2015</td>\n",
              "      <td>25.3</td>\n",
              "      <td>16.5</td>\n",
              "      <td>0.0</td>\n",
              "      <td>NOS</td>\n",
              "      <td>7/3/2017</td>\n",
              "      <td>AFRICAN AMERICAN/BLACK</td>\n",
              "      <td>61.200001</td>\n",
              "    </tr>\n",
              "    <tr>\n",
              "      <th>63812438</th>\n",
              "      <td>Detroit</td>\n",
              "      <td>3/2/2015</td>\n",
              "      <td>27.1</td>\n",
              "      <td>7.2</td>\n",
              "      <td>0.0</td>\n",
              "      <td>NOS</td>\n",
              "      <td>1/9/2017</td>\n",
              "      <td>AFRICAN AMERICAN/BLACK</td>\n",
              "      <td>43.200001</td>\n",
              "    </tr>\n",
              "    <tr>\n",
              "      <th>63812437</th>\n",
              "      <td>Detroit</td>\n",
              "      <td>3/2/2015</td>\n",
              "      <td>27.1</td>\n",
              "      <td>7.2</td>\n",
              "      <td>0.0</td>\n",
              "      <td>CAN</td>\n",
              "      <td>2/6/2017</td>\n",
              "      <td>AFRICAN AMERICAN/BLACK</td>\n",
              "      <td>47.700001</td>\n",
              "    </tr>\n",
              "    <tr>\n",
              "      <th>63812434</th>\n",
              "      <td>Detroit</td>\n",
              "      <td>3/2/2015</td>\n",
              "      <td>27.1</td>\n",
              "      <td>7.2</td>\n",
              "      <td>0.0</td>\n",
              "      <td>CAN</td>\n",
              "      <td>8/14/2017</td>\n",
              "      <td>AFRICAN AMERICAN/BLACK</td>\n",
              "      <td>54.799999</td>\n",
              "    </tr>\n",
              "    <tr>\n",
              "      <th>63812433</th>\n",
              "      <td>Detroit</td>\n",
              "      <td>3/2/2015</td>\n",
              "      <td>27.1</td>\n",
              "      <td>7.2</td>\n",
              "      <td>0.0</td>\n",
              "      <td>CAN</td>\n",
              "      <td>8/29/2016</td>\n",
              "      <td>AFRICAN AMERICAN/BLACK</td>\n",
              "      <td>53.799999</td>\n",
              "    </tr>\n",
              "    <tr>\n",
              "      <th>63812432</th>\n",
              "      <td>Detroit</td>\n",
              "      <td>3/2/2015</td>\n",
              "      <td>27.1</td>\n",
              "      <td>7.2</td>\n",
              "      <td>0.0</td>\n",
              "      <td>NOS</td>\n",
              "      <td>7/3/2017</td>\n",
              "      <td>AFRICAN AMERICAN/BLACK</td>\n",
              "      <td>61.200001</td>\n",
              "    </tr>\n",
              "    <tr>\n",
              "      <th>63812429</th>\n",
              "      <td>Detroit</td>\n",
              "      <td>3/1/2015</td>\n",
              "      <td>21.4</td>\n",
              "      <td>4.6</td>\n",
              "      <td>0.0</td>\n",
              "      <td>CAN</td>\n",
              "      <td>2/19/2014</td>\n",
              "      <td>CAUCASIAN/WHITE</td>\n",
              "      <td>77.699997</td>\n",
              "    </tr>\n",
              "    <tr>\n",
              "      <th>63812428</th>\n",
              "      <td>Detroit</td>\n",
              "      <td>3/1/2015</td>\n",
              "      <td>21.4</td>\n",
              "      <td>4.6</td>\n",
              "      <td>0.0</td>\n",
              "      <td>CAN</td>\n",
              "      <td>1/29/2014</td>\n",
              "      <td>AFRICAN AMERICAN/BLACK</td>\n",
              "      <td>61.500000</td>\n",
              "    </tr>\n",
              "    <tr>\n",
              "      <th>63812427</th>\n",
              "      <td>Detroit</td>\n",
              "      <td>3/1/2015</td>\n",
              "      <td>21.4</td>\n",
              "      <td>4.6</td>\n",
              "      <td>0.0</td>\n",
              "      <td>CAN</td>\n",
              "      <td>1/15/2014</td>\n",
              "      <td>AFRICAN AMERICAN/BLACK</td>\n",
              "      <td>57.700001</td>\n",
              "    </tr>\n",
              "    <tr>\n",
              "      <th>63812439</th>\n",
              "      <td>Detroit</td>\n",
              "      <td>3/2/2015</td>\n",
              "      <td>27.1</td>\n",
              "      <td>7.2</td>\n",
              "      <td>0.0</td>\n",
              "      <td>NOS</td>\n",
              "      <td>6/4/2018</td>\n",
              "      <td>AFRICAN AMERICAN/BLACK</td>\n",
              "      <td>42.400002</td>\n",
              "    </tr>\n",
              "  </tbody>\n",
              "</table>\n",
              "</div>"
            ],
            "text/plain": [
              "             city      date  ...                    race        age\n",
              "61652072  Detroit  1/1/2015  ...  AFRICAN AMERICAN/BLACK  61.200001\n",
              "63812438  Detroit  3/2/2015  ...  AFRICAN AMERICAN/BLACK  43.200001\n",
              "63812437  Detroit  3/2/2015  ...  AFRICAN AMERICAN/BLACK  47.700001\n",
              "63812434  Detroit  3/2/2015  ...  AFRICAN AMERICAN/BLACK  54.799999\n",
              "63812433  Detroit  3/2/2015  ...  AFRICAN AMERICAN/BLACK  53.799999\n",
              "63812432  Detroit  3/2/2015  ...  AFRICAN AMERICAN/BLACK  61.200001\n",
              "63812429  Detroit  3/1/2015  ...         CAUCASIAN/WHITE  77.699997\n",
              "63812428  Detroit  3/1/2015  ...  AFRICAN AMERICAN/BLACK  61.500000\n",
              "63812427  Detroit  3/1/2015  ...  AFRICAN AMERICAN/BLACK  57.700001\n",
              "63812439  Detroit  3/2/2015  ...  AFRICAN AMERICAN/BLACK  42.400002\n",
              "\n",
              "[10 rows x 9 columns]"
            ]
          },
          "metadata": {
            "tags": []
          },
          "execution_count": 116
        }
      ]
    }
  ]
}